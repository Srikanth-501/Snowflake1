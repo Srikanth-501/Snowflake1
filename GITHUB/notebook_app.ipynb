{
 "metadata": {
  "kernelspec": {
   "display_name": "Streamlit Notebook",
   "name": "streamlit"
  }
 },
 "nbformat_minor": 5,
 "nbformat": 4,
 "cells": [
  {
   "cell_type": "code",
   "id": "37620dc8-fbef-4ccc-8304-181b0144fe8b",
   "metadata": {
    "language": "sql",
    "name": "cell1"
   },
   "outputs": [],
   "source": "select * from employees",
   "execution_count": null
  }
 ]
}